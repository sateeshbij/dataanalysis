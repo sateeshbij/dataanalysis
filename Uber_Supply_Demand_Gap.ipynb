{
  "nbformat": 4,
  "nbformat_minor": 0,
  "metadata": {
    "colab": {
      "name": "Uber_Supply_Demand_Gap.ipynb",
      "version": "0.3.2",
      "provenance": [],
      "include_colab_link": true
    },
    "kernelspec": {
      "display_name": "Python 3",
      "language": "python",
      "name": "python3"
    }
  },
  "cells": [
    {
      "cell_type": "markdown",
      "metadata": {
        "id": "view-in-github",
        "colab_type": "text"
      },
      "source": [
        "<a href=\"https://colab.research.google.com/github/sateeshbij/dataanalysis/blob/master/Uber_Supply_Demand_Gap.ipynb\" target=\"_parent\"><img src=\"https://colab.research.google.com/assets/colab-badge.svg\" alt=\"Open In Colab\"/></a>"
      ]
    },
    {
      "metadata": {
        "id": "ZcRwEMf20kdj",
        "colab_type": "code",
        "colab": {}
      },
      "cell_type": "code",
      "source": [
        "import numpy as np\n",
        "import pandas as pd\n",
        "import matplotlib.pyplot as plt\n",
        "import seaborn as sns\n",
        "\n",
        "sns.set_style('whitegrid')"
      ],
      "execution_count": 0,
      "outputs": []
    },
    {
      "metadata": {
        "id": "hzEEIoJR0kdp",
        "colab_type": "code",
        "colab": {}
      },
      "cell_type": "code",
      "source": [
        "uber = pd.read_csv(\"Uber Request Data.csv\")"
      ],
      "execution_count": 0,
      "outputs": []
    },
    {
      "metadata": {
        "id": "XPtQMWYW0kdu",
        "colab_type": "code",
        "colab": {},
        "outputId": "519cf853-3bd9-4cb1-c781-10bb66c1eed3"
      },
      "cell_type": "code",
      "source": [
        "uber.info()"
      ],
      "execution_count": 0,
      "outputs": [
        {
          "output_type": "stream",
          "text": [
            "<class 'pandas.core.frame.DataFrame'>\n",
            "RangeIndex: 6745 entries, 0 to 6744\n",
            "Data columns (total 6 columns):\n",
            "Request id           6745 non-null int64\n",
            "Pickup point         6745 non-null object\n",
            "Driver id            4095 non-null float64\n",
            "Status               6745 non-null object\n",
            "Request timestamp    6745 non-null object\n",
            "Drop timestamp       2831 non-null object\n",
            "dtypes: float64(1), int64(1), object(4)\n",
            "memory usage: 316.2+ KB\n"
          ],
          "name": "stdout"
        }
      ]
    },
    {
      "metadata": {
        "id": "9sLcAwaA0kd2",
        "colab_type": "code",
        "colab": {},
        "outputId": "a98b05f8-d59e-4355-ee62-7e8e15af9bc2"
      },
      "cell_type": "code",
      "source": [
        "uber.describe()"
      ],
      "execution_count": 0,
      "outputs": [
        {
          "output_type": "execute_result",
          "data": {
            "text/html": [
              "<div>\n",
              "<style scoped>\n",
              "    .dataframe tbody tr th:only-of-type {\n",
              "        vertical-align: middle;\n",
              "    }\n",
              "\n",
              "    .dataframe tbody tr th {\n",
              "        vertical-align: top;\n",
              "    }\n",
              "\n",
              "    .dataframe thead th {\n",
              "        text-align: right;\n",
              "    }\n",
              "</style>\n",
              "<table border=\"1\" class=\"dataframe\">\n",
              "  <thead>\n",
              "    <tr style=\"text-align: right;\">\n",
              "      <th></th>\n",
              "      <th>Request id</th>\n",
              "      <th>Driver id</th>\n",
              "    </tr>\n",
              "  </thead>\n",
              "  <tbody>\n",
              "    <tr>\n",
              "      <th>count</th>\n",
              "      <td>6745.000000</td>\n",
              "      <td>4095.000000</td>\n",
              "    </tr>\n",
              "    <tr>\n",
              "      <th>mean</th>\n",
              "      <td>3384.644922</td>\n",
              "      <td>149.501343</td>\n",
              "    </tr>\n",
              "    <tr>\n",
              "      <th>std</th>\n",
              "      <td>1955.099667</td>\n",
              "      <td>86.051994</td>\n",
              "    </tr>\n",
              "    <tr>\n",
              "      <th>min</th>\n",
              "      <td>1.000000</td>\n",
              "      <td>1.000000</td>\n",
              "    </tr>\n",
              "    <tr>\n",
              "      <th>25%</th>\n",
              "      <td>1691.000000</td>\n",
              "      <td>75.000000</td>\n",
              "    </tr>\n",
              "    <tr>\n",
              "      <th>50%</th>\n",
              "      <td>3387.000000</td>\n",
              "      <td>149.000000</td>\n",
              "    </tr>\n",
              "    <tr>\n",
              "      <th>75%</th>\n",
              "      <td>5080.000000</td>\n",
              "      <td>224.000000</td>\n",
              "    </tr>\n",
              "    <tr>\n",
              "      <th>max</th>\n",
              "      <td>6766.000000</td>\n",
              "      <td>300.000000</td>\n",
              "    </tr>\n",
              "  </tbody>\n",
              "</table>\n",
              "</div>"
            ],
            "text/plain": [
              "        Request id    Driver id\n",
              "count  6745.000000  4095.000000\n",
              "mean   3384.644922   149.501343\n",
              "std    1955.099667    86.051994\n",
              "min       1.000000     1.000000\n",
              "25%    1691.000000    75.000000\n",
              "50%    3387.000000   149.000000\n",
              "75%    5080.000000   224.000000\n",
              "max    6766.000000   300.000000"
            ]
          },
          "metadata": {
            "tags": []
          },
          "execution_count": 197
        }
      ]
    },
    {
      "metadata": {
        "id": "DmxXuCEm0kd9",
        "colab_type": "code",
        "colab": {},
        "outputId": "2a78d1f6-9c0e-42da-c211-c2cd28e629f9"
      },
      "cell_type": "code",
      "source": [
        "uber"
      ],
      "execution_count": 0,
      "outputs": [
        {
          "output_type": "execute_result",
          "data": {
            "text/html": [
              "<div>\n",
              "<style scoped>\n",
              "    .dataframe tbody tr th:only-of-type {\n",
              "        vertical-align: middle;\n",
              "    }\n",
              "\n",
              "    .dataframe tbody tr th {\n",
              "        vertical-align: top;\n",
              "    }\n",
              "\n",
              "    .dataframe thead th {\n",
              "        text-align: right;\n",
              "    }\n",
              "</style>\n",
              "<table border=\"1\" class=\"dataframe\">\n",
              "  <thead>\n",
              "    <tr style=\"text-align: right;\">\n",
              "      <th></th>\n",
              "      <th>Request id</th>\n",
              "      <th>Pickup point</th>\n",
              "      <th>Driver id</th>\n",
              "      <th>Status</th>\n",
              "      <th>Request timestamp</th>\n",
              "      <th>Drop timestamp</th>\n",
              "    </tr>\n",
              "  </thead>\n",
              "  <tbody>\n",
              "    <tr>\n",
              "      <th>0</th>\n",
              "      <td>619</td>\n",
              "      <td>Airport</td>\n",
              "      <td>1.0</td>\n",
              "      <td>Trip Completed</td>\n",
              "      <td>11/7/2016 11:51</td>\n",
              "      <td>11/7/2016 13:00</td>\n",
              "    </tr>\n",
              "    <tr>\n",
              "      <th>1</th>\n",
              "      <td>867</td>\n",
              "      <td>Airport</td>\n",
              "      <td>1.0</td>\n",
              "      <td>Trip Completed</td>\n",
              "      <td>11/7/2016 17:57</td>\n",
              "      <td>11/7/2016 18:47</td>\n",
              "    </tr>\n",
              "    <tr>\n",
              "      <th>2</th>\n",
              "      <td>1807</td>\n",
              "      <td>City</td>\n",
              "      <td>1.0</td>\n",
              "      <td>Trip Completed</td>\n",
              "      <td>12/7/2016 9:17</td>\n",
              "      <td>12/7/2016 9:58</td>\n",
              "    </tr>\n",
              "    <tr>\n",
              "      <th>3</th>\n",
              "      <td>2532</td>\n",
              "      <td>Airport</td>\n",
              "      <td>1.0</td>\n",
              "      <td>Trip Completed</td>\n",
              "      <td>12/7/2016 21:08</td>\n",
              "      <td>12/7/2016 22:03</td>\n",
              "    </tr>\n",
              "    <tr>\n",
              "      <th>4</th>\n",
              "      <td>3112</td>\n",
              "      <td>City</td>\n",
              "      <td>1.0</td>\n",
              "      <td>Trip Completed</td>\n",
              "      <td>13-07-2016 08:33:16</td>\n",
              "      <td>13-07-2016 09:25:47</td>\n",
              "    </tr>\n",
              "    <tr>\n",
              "      <th>5</th>\n",
              "      <td>3879</td>\n",
              "      <td>Airport</td>\n",
              "      <td>1.0</td>\n",
              "      <td>Trip Completed</td>\n",
              "      <td>13-07-2016 21:57:28</td>\n",
              "      <td>13-07-2016 22:28:59</td>\n",
              "    </tr>\n",
              "    <tr>\n",
              "      <th>6</th>\n",
              "      <td>4270</td>\n",
              "      <td>Airport</td>\n",
              "      <td>1.0</td>\n",
              "      <td>Trip Completed</td>\n",
              "      <td>14-07-2016 06:15:32</td>\n",
              "      <td>14-07-2016 07:13:15</td>\n",
              "    </tr>\n",
              "    <tr>\n",
              "      <th>7</th>\n",
              "      <td>5510</td>\n",
              "      <td>Airport</td>\n",
              "      <td>1.0</td>\n",
              "      <td>Trip Completed</td>\n",
              "      <td>15-07-2016 05:11:52</td>\n",
              "      <td>15-07-2016 06:07:52</td>\n",
              "    </tr>\n",
              "    <tr>\n",
              "      <th>8</th>\n",
              "      <td>6248</td>\n",
              "      <td>City</td>\n",
              "      <td>1.0</td>\n",
              "      <td>Trip Completed</td>\n",
              "      <td>15-07-2016 17:57:27</td>\n",
              "      <td>15-07-2016 18:50:51</td>\n",
              "    </tr>\n",
              "    <tr>\n",
              "      <th>9</th>\n",
              "      <td>267</td>\n",
              "      <td>City</td>\n",
              "      <td>2.0</td>\n",
              "      <td>Trip Completed</td>\n",
              "      <td>11/7/2016 6:46</td>\n",
              "      <td>11/7/2016 7:25</td>\n",
              "    </tr>\n",
              "    <tr>\n",
              "      <th>10</th>\n",
              "      <td>1467</td>\n",
              "      <td>Airport</td>\n",
              "      <td>2.0</td>\n",
              "      <td>Trip Completed</td>\n",
              "      <td>12/7/2016 5:08</td>\n",
              "      <td>12/7/2016 6:02</td>\n",
              "    </tr>\n",
              "    <tr>\n",
              "      <th>11</th>\n",
              "      <td>1983</td>\n",
              "      <td>City</td>\n",
              "      <td>2.0</td>\n",
              "      <td>Trip Completed</td>\n",
              "      <td>12/7/2016 12:30</td>\n",
              "      <td>12/7/2016 12:57</td>\n",
              "    </tr>\n",
              "    <tr>\n",
              "      <th>12</th>\n",
              "      <td>2784</td>\n",
              "      <td>Airport</td>\n",
              "      <td>2.0</td>\n",
              "      <td>Trip Completed</td>\n",
              "      <td>13-07-2016 04:49:20</td>\n",
              "      <td>13-07-2016 05:23:03</td>\n",
              "    </tr>\n",
              "    <tr>\n",
              "      <th>13</th>\n",
              "      <td>3075</td>\n",
              "      <td>City</td>\n",
              "      <td>2.0</td>\n",
              "      <td>Trip Completed</td>\n",
              "      <td>13-07-2016 08:02:53</td>\n",
              "      <td>13-07-2016 09:16:19</td>\n",
              "    </tr>\n",
              "    <tr>\n",
              "      <th>14</th>\n",
              "      <td>3379</td>\n",
              "      <td>City</td>\n",
              "      <td>2.0</td>\n",
              "      <td>Trip Completed</td>\n",
              "      <td>13-07-2016 14:23:02</td>\n",
              "      <td>13-07-2016 15:35:18</td>\n",
              "    </tr>\n",
              "    <tr>\n",
              "      <th>15</th>\n",
              "      <td>3482</td>\n",
              "      <td>Airport</td>\n",
              "      <td>2.0</td>\n",
              "      <td>Trip Completed</td>\n",
              "      <td>13-07-2016 17:23:18</td>\n",
              "      <td>13-07-2016 18:20:51</td>\n",
              "    </tr>\n",
              "    <tr>\n",
              "      <th>16</th>\n",
              "      <td>4652</td>\n",
              "      <td>City</td>\n",
              "      <td>2.0</td>\n",
              "      <td>Trip Completed</td>\n",
              "      <td>14-07-2016 12:01:02</td>\n",
              "      <td>14-07-2016 12:36:46</td>\n",
              "    </tr>\n",
              "    <tr>\n",
              "      <th>17</th>\n",
              "      <td>5335</td>\n",
              "      <td>Airport</td>\n",
              "      <td>2.0</td>\n",
              "      <td>Trip Completed</td>\n",
              "      <td>14-07-2016 22:24:13</td>\n",
              "      <td>14-07-2016 23:18:52</td>\n",
              "    </tr>\n",
              "    <tr>\n",
              "      <th>18</th>\n",
              "      <td>535</td>\n",
              "      <td>Airport</td>\n",
              "      <td>3.0</td>\n",
              "      <td>Trip Completed</td>\n",
              "      <td>11/7/2016 10:00</td>\n",
              "      <td>11/7/2016 10:31</td>\n",
              "    </tr>\n",
              "    <tr>\n",
              "      <th>19</th>\n",
              "      <td>960</td>\n",
              "      <td>Airport</td>\n",
              "      <td>3.0</td>\n",
              "      <td>Trip Completed</td>\n",
              "      <td>11/7/2016 18:45</td>\n",
              "      <td>11/7/2016 19:23</td>\n",
              "    </tr>\n",
              "    <tr>\n",
              "      <th>20</th>\n",
              "      <td>1934</td>\n",
              "      <td>Airport</td>\n",
              "      <td>3.0</td>\n",
              "      <td>Trip Completed</td>\n",
              "      <td>12/7/2016 11:17</td>\n",
              "      <td>12/7/2016 12:23</td>\n",
              "    </tr>\n",
              "    <tr>\n",
              "      <th>21</th>\n",
              "      <td>2083</td>\n",
              "      <td>Airport</td>\n",
              "      <td>3.0</td>\n",
              "      <td>Trip Completed</td>\n",
              "      <td>12/7/2016 15:46</td>\n",
              "      <td>12/7/2016 16:40</td>\n",
              "    </tr>\n",
              "    <tr>\n",
              "      <th>22</th>\n",
              "      <td>2211</td>\n",
              "      <td>Airport</td>\n",
              "      <td>3.0</td>\n",
              "      <td>Trip Completed</td>\n",
              "      <td>12/7/2016 18:00</td>\n",
              "      <td>12/7/2016 18:28</td>\n",
              "    </tr>\n",
              "    <tr>\n",
              "      <th>23</th>\n",
              "      <td>3096</td>\n",
              "      <td>Airport</td>\n",
              "      <td>3.0</td>\n",
              "      <td>Trip Completed</td>\n",
              "      <td>13-07-2016 08:17:29</td>\n",
              "      <td>13-07-2016 09:22:37</td>\n",
              "    </tr>\n",
              "    <tr>\n",
              "      <th>24</th>\n",
              "      <td>3881</td>\n",
              "      <td>Airport</td>\n",
              "      <td>3.0</td>\n",
              "      <td>Trip Completed</td>\n",
              "      <td>13-07-2016 21:54:18</td>\n",
              "      <td>13-07-2016 22:51:23</td>\n",
              "    </tr>\n",
              "    <tr>\n",
              "      <th>25</th>\n",
              "      <td>5254</td>\n",
              "      <td>City</td>\n",
              "      <td>3.0</td>\n",
              "      <td>Trip Completed</td>\n",
              "      <td>14-07-2016 21:23:03</td>\n",
              "      <td>14-07-2016 22:25:19</td>\n",
              "    </tr>\n",
              "    <tr>\n",
              "      <th>26</th>\n",
              "      <td>5434</td>\n",
              "      <td>City</td>\n",
              "      <td>3.0</td>\n",
              "      <td>Trip Completed</td>\n",
              "      <td>15-07-2016 02:41:38</td>\n",
              "      <td>15-07-2016 03:24:43</td>\n",
              "    </tr>\n",
              "    <tr>\n",
              "      <th>27</th>\n",
              "      <td>5916</td>\n",
              "      <td>City</td>\n",
              "      <td>3.0</td>\n",
              "      <td>Trip Completed</td>\n",
              "      <td>15-07-2016 10:00:43</td>\n",
              "      <td>15-07-2016 10:53:06</td>\n",
              "    </tr>\n",
              "    <tr>\n",
              "      <th>28</th>\n",
              "      <td>669</td>\n",
              "      <td>City</td>\n",
              "      <td>4.0</td>\n",
              "      <td>Trip Completed</td>\n",
              "      <td>11/7/2016 13:08</td>\n",
              "      <td>11/7/2016 13:49</td>\n",
              "    </tr>\n",
              "    <tr>\n",
              "      <th>29</th>\n",
              "      <td>1567</td>\n",
              "      <td>Airport</td>\n",
              "      <td>4.0</td>\n",
              "      <td>Trip Completed</td>\n",
              "      <td>12/7/2016 6:21</td>\n",
              "      <td>12/7/2016 7:10</td>\n",
              "    </tr>\n",
              "    <tr>\n",
              "      <th>...</th>\n",
              "      <td>...</td>\n",
              "      <td>...</td>\n",
              "      <td>...</td>\n",
              "      <td>...</td>\n",
              "      <td>...</td>\n",
              "      <td>...</td>\n",
              "    </tr>\n",
              "    <tr>\n",
              "      <th>6715</th>\n",
              "      <td>6683</td>\n",
              "      <td>City</td>\n",
              "      <td>NaN</td>\n",
              "      <td>No Cars Available</td>\n",
              "      <td>15-07-2016 22:34:01</td>\n",
              "      <td>NaN</td>\n",
              "    </tr>\n",
              "    <tr>\n",
              "      <th>6716</th>\n",
              "      <td>6686</td>\n",
              "      <td>Airport</td>\n",
              "      <td>NaN</td>\n",
              "      <td>No Cars Available</td>\n",
              "      <td>15-07-2016 22:36:13</td>\n",
              "      <td>NaN</td>\n",
              "    </tr>\n",
              "    <tr>\n",
              "      <th>6717</th>\n",
              "      <td>6688</td>\n",
              "      <td>Airport</td>\n",
              "      <td>NaN</td>\n",
              "      <td>No Cars Available</td>\n",
              "      <td>15-07-2016 22:37:37</td>\n",
              "      <td>NaN</td>\n",
              "    </tr>\n",
              "    <tr>\n",
              "      <th>6718</th>\n",
              "      <td>6689</td>\n",
              "      <td>Airport</td>\n",
              "      <td>NaN</td>\n",
              "      <td>No Cars Available</td>\n",
              "      <td>15-07-2016 22:43:46</td>\n",
              "      <td>NaN</td>\n",
              "    </tr>\n",
              "    <tr>\n",
              "      <th>6719</th>\n",
              "      <td>6693</td>\n",
              "      <td>City</td>\n",
              "      <td>NaN</td>\n",
              "      <td>No Cars Available</td>\n",
              "      <td>15-07-2016 22:49:33</td>\n",
              "      <td>NaN</td>\n",
              "    </tr>\n",
              "    <tr>\n",
              "      <th>6720</th>\n",
              "      <td>6696</td>\n",
              "      <td>City</td>\n",
              "      <td>NaN</td>\n",
              "      <td>No Cars Available</td>\n",
              "      <td>15-07-2016 22:49:45</td>\n",
              "      <td>NaN</td>\n",
              "    </tr>\n",
              "    <tr>\n",
              "      <th>6721</th>\n",
              "      <td>6697</td>\n",
              "      <td>Airport</td>\n",
              "      <td>NaN</td>\n",
              "      <td>No Cars Available</td>\n",
              "      <td>15-07-2016 22:51:18</td>\n",
              "      <td>NaN</td>\n",
              "    </tr>\n",
              "    <tr>\n",
              "      <th>6722</th>\n",
              "      <td>6709</td>\n",
              "      <td>Airport</td>\n",
              "      <td>NaN</td>\n",
              "      <td>No Cars Available</td>\n",
              "      <td>15-07-2016 22:56:00</td>\n",
              "      <td>NaN</td>\n",
              "    </tr>\n",
              "    <tr>\n",
              "      <th>6723</th>\n",
              "      <td>6706</td>\n",
              "      <td>Airport</td>\n",
              "      <td>NaN</td>\n",
              "      <td>No Cars Available</td>\n",
              "      <td>15-07-2016 22:58:15</td>\n",
              "      <td>NaN</td>\n",
              "    </tr>\n",
              "    <tr>\n",
              "      <th>6724</th>\n",
              "      <td>6708</td>\n",
              "      <td>City</td>\n",
              "      <td>NaN</td>\n",
              "      <td>No Cars Available</td>\n",
              "      <td>15-07-2016 23:03:23</td>\n",
              "      <td>NaN</td>\n",
              "    </tr>\n",
              "    <tr>\n",
              "      <th>6725</th>\n",
              "      <td>6713</td>\n",
              "      <td>City</td>\n",
              "      <td>NaN</td>\n",
              "      <td>No Cars Available</td>\n",
              "      <td>15-07-2016 23:08:14</td>\n",
              "      <td>NaN</td>\n",
              "    </tr>\n",
              "    <tr>\n",
              "      <th>6726</th>\n",
              "      <td>6715</td>\n",
              "      <td>City</td>\n",
              "      <td>NaN</td>\n",
              "      <td>No Cars Available</td>\n",
              "      <td>15-07-2016 23:11:41</td>\n",
              "      <td>NaN</td>\n",
              "    </tr>\n",
              "    <tr>\n",
              "      <th>6727</th>\n",
              "      <td>6716</td>\n",
              "      <td>City</td>\n",
              "      <td>NaN</td>\n",
              "      <td>No Cars Available</td>\n",
              "      <td>15-07-2016 23:14:36</td>\n",
              "      <td>NaN</td>\n",
              "    </tr>\n",
              "    <tr>\n",
              "      <th>6728</th>\n",
              "      <td>6718</td>\n",
              "      <td>Airport</td>\n",
              "      <td>NaN</td>\n",
              "      <td>No Cars Available</td>\n",
              "      <td>15-07-2016 23:14:39</td>\n",
              "      <td>NaN</td>\n",
              "    </tr>\n",
              "    <tr>\n",
              "      <th>6729</th>\n",
              "      <td>6720</td>\n",
              "      <td>City</td>\n",
              "      <td>NaN</td>\n",
              "      <td>No Cars Available</td>\n",
              "      <td>15-07-2016 23:16:48</td>\n",
              "      <td>NaN</td>\n",
              "    </tr>\n",
              "    <tr>\n",
              "      <th>6730</th>\n",
              "      <td>6722</td>\n",
              "      <td>Airport</td>\n",
              "      <td>NaN</td>\n",
              "      <td>No Cars Available</td>\n",
              "      <td>15-07-2016 23:18:21</td>\n",
              "      <td>NaN</td>\n",
              "    </tr>\n",
              "    <tr>\n",
              "      <th>6731</th>\n",
              "      <td>6725</td>\n",
              "      <td>Airport</td>\n",
              "      <td>NaN</td>\n",
              "      <td>No Cars Available</td>\n",
              "      <td>15-07-2016 23:21:53</td>\n",
              "      <td>NaN</td>\n",
              "    </tr>\n",
              "    <tr>\n",
              "      <th>6732</th>\n",
              "      <td>6728</td>\n",
              "      <td>City</td>\n",
              "      <td>NaN</td>\n",
              "      <td>No Cars Available</td>\n",
              "      <td>15-07-2016 23:26:50</td>\n",
              "      <td>NaN</td>\n",
              "    </tr>\n",
              "    <tr>\n",
              "      <th>6733</th>\n",
              "      <td>6730</td>\n",
              "      <td>Airport</td>\n",
              "      <td>NaN</td>\n",
              "      <td>No Cars Available</td>\n",
              "      <td>15-07-2016 23:27:55</td>\n",
              "      <td>NaN</td>\n",
              "    </tr>\n",
              "    <tr>\n",
              "      <th>6734</th>\n",
              "      <td>6732</td>\n",
              "      <td>Airport</td>\n",
              "      <td>NaN</td>\n",
              "      <td>No Cars Available</td>\n",
              "      <td>15-07-2016 23:35:50</td>\n",
              "      <td>NaN</td>\n",
              "    </tr>\n",
              "    <tr>\n",
              "      <th>6735</th>\n",
              "      <td>6737</td>\n",
              "      <td>Airport</td>\n",
              "      <td>NaN</td>\n",
              "      <td>No Cars Available</td>\n",
              "      <td>15-07-2016 23:39:15</td>\n",
              "      <td>NaN</td>\n",
              "    </tr>\n",
              "    <tr>\n",
              "      <th>6736</th>\n",
              "      <td>6744</td>\n",
              "      <td>Airport</td>\n",
              "      <td>NaN</td>\n",
              "      <td>No Cars Available</td>\n",
              "      <td>15-07-2016 23:42:51</td>\n",
              "      <td>NaN</td>\n",
              "    </tr>\n",
              "    <tr>\n",
              "      <th>6737</th>\n",
              "      <td>6740</td>\n",
              "      <td>City</td>\n",
              "      <td>NaN</td>\n",
              "      <td>No Cars Available</td>\n",
              "      <td>15-07-2016 23:43:54</td>\n",
              "      <td>NaN</td>\n",
              "    </tr>\n",
              "    <tr>\n",
              "      <th>6738</th>\n",
              "      <td>6746</td>\n",
              "      <td>City</td>\n",
              "      <td>NaN</td>\n",
              "      <td>No Cars Available</td>\n",
              "      <td>15-07-2016 23:46:03</td>\n",
              "      <td>NaN</td>\n",
              "    </tr>\n",
              "    <tr>\n",
              "      <th>6739</th>\n",
              "      <td>6739</td>\n",
              "      <td>City</td>\n",
              "      <td>NaN</td>\n",
              "      <td>No Cars Available</td>\n",
              "      <td>15-07-2016 23:46:20</td>\n",
              "      <td>NaN</td>\n",
              "    </tr>\n",
              "    <tr>\n",
              "      <th>6740</th>\n",
              "      <td>6745</td>\n",
              "      <td>City</td>\n",
              "      <td>NaN</td>\n",
              "      <td>No Cars Available</td>\n",
              "      <td>15-07-2016 23:49:03</td>\n",
              "      <td>NaN</td>\n",
              "    </tr>\n",
              "    <tr>\n",
              "      <th>6741</th>\n",
              "      <td>6752</td>\n",
              "      <td>Airport</td>\n",
              "      <td>NaN</td>\n",
              "      <td>No Cars Available</td>\n",
              "      <td>15-07-2016 23:50:05</td>\n",
              "      <td>NaN</td>\n",
              "    </tr>\n",
              "    <tr>\n",
              "      <th>6742</th>\n",
              "      <td>6751</td>\n",
              "      <td>City</td>\n",
              "      <td>NaN</td>\n",
              "      <td>No Cars Available</td>\n",
              "      <td>15-07-2016 23:52:06</td>\n",
              "      <td>NaN</td>\n",
              "    </tr>\n",
              "    <tr>\n",
              "      <th>6743</th>\n",
              "      <td>6754</td>\n",
              "      <td>City</td>\n",
              "      <td>NaN</td>\n",
              "      <td>No Cars Available</td>\n",
              "      <td>15-07-2016 23:54:39</td>\n",
              "      <td>NaN</td>\n",
              "    </tr>\n",
              "    <tr>\n",
              "      <th>6744</th>\n",
              "      <td>6753</td>\n",
              "      <td>Airport</td>\n",
              "      <td>NaN</td>\n",
              "      <td>No Cars Available</td>\n",
              "      <td>15-07-2016 23:55:03</td>\n",
              "      <td>NaN</td>\n",
              "    </tr>\n",
              "  </tbody>\n",
              "</table>\n",
              "<p>6745 rows × 6 columns</p>\n",
              "</div>"
            ],
            "text/plain": [
              "      Request id Pickup point  Driver id             Status  \\\n",
              "0            619      Airport        1.0     Trip Completed   \n",
              "1            867      Airport        1.0     Trip Completed   \n",
              "2           1807         City        1.0     Trip Completed   \n",
              "3           2532      Airport        1.0     Trip Completed   \n",
              "4           3112         City        1.0     Trip Completed   \n",
              "5           3879      Airport        1.0     Trip Completed   \n",
              "6           4270      Airport        1.0     Trip Completed   \n",
              "7           5510      Airport        1.0     Trip Completed   \n",
              "8           6248         City        1.0     Trip Completed   \n",
              "9            267         City        2.0     Trip Completed   \n",
              "10          1467      Airport        2.0     Trip Completed   \n",
              "11          1983         City        2.0     Trip Completed   \n",
              "12          2784      Airport        2.0     Trip Completed   \n",
              "13          3075         City        2.0     Trip Completed   \n",
              "14          3379         City        2.0     Trip Completed   \n",
              "15          3482      Airport        2.0     Trip Completed   \n",
              "16          4652         City        2.0     Trip Completed   \n",
              "17          5335      Airport        2.0     Trip Completed   \n",
              "18           535      Airport        3.0     Trip Completed   \n",
              "19           960      Airport        3.0     Trip Completed   \n",
              "20          1934      Airport        3.0     Trip Completed   \n",
              "21          2083      Airport        3.0     Trip Completed   \n",
              "22          2211      Airport        3.0     Trip Completed   \n",
              "23          3096      Airport        3.0     Trip Completed   \n",
              "24          3881      Airport        3.0     Trip Completed   \n",
              "25          5254         City        3.0     Trip Completed   \n",
              "26          5434         City        3.0     Trip Completed   \n",
              "27          5916         City        3.0     Trip Completed   \n",
              "28           669         City        4.0     Trip Completed   \n",
              "29          1567      Airport        4.0     Trip Completed   \n",
              "...          ...          ...        ...                ...   \n",
              "6715        6683         City        NaN  No Cars Available   \n",
              "6716        6686      Airport        NaN  No Cars Available   \n",
              "6717        6688      Airport        NaN  No Cars Available   \n",
              "6718        6689      Airport        NaN  No Cars Available   \n",
              "6719        6693         City        NaN  No Cars Available   \n",
              "6720        6696         City        NaN  No Cars Available   \n",
              "6721        6697      Airport        NaN  No Cars Available   \n",
              "6722        6709      Airport        NaN  No Cars Available   \n",
              "6723        6706      Airport        NaN  No Cars Available   \n",
              "6724        6708         City        NaN  No Cars Available   \n",
              "6725        6713         City        NaN  No Cars Available   \n",
              "6726        6715         City        NaN  No Cars Available   \n",
              "6727        6716         City        NaN  No Cars Available   \n",
              "6728        6718      Airport        NaN  No Cars Available   \n",
              "6729        6720         City        NaN  No Cars Available   \n",
              "6730        6722      Airport        NaN  No Cars Available   \n",
              "6731        6725      Airport        NaN  No Cars Available   \n",
              "6732        6728         City        NaN  No Cars Available   \n",
              "6733        6730      Airport        NaN  No Cars Available   \n",
              "6734        6732      Airport        NaN  No Cars Available   \n",
              "6735        6737      Airport        NaN  No Cars Available   \n",
              "6736        6744      Airport        NaN  No Cars Available   \n",
              "6737        6740         City        NaN  No Cars Available   \n",
              "6738        6746         City        NaN  No Cars Available   \n",
              "6739        6739         City        NaN  No Cars Available   \n",
              "6740        6745         City        NaN  No Cars Available   \n",
              "6741        6752      Airport        NaN  No Cars Available   \n",
              "6742        6751         City        NaN  No Cars Available   \n",
              "6743        6754         City        NaN  No Cars Available   \n",
              "6744        6753      Airport        NaN  No Cars Available   \n",
              "\n",
              "        Request timestamp       Drop timestamp  \n",
              "0         11/7/2016 11:51      11/7/2016 13:00  \n",
              "1         11/7/2016 17:57      11/7/2016 18:47  \n",
              "2          12/7/2016 9:17       12/7/2016 9:58  \n",
              "3         12/7/2016 21:08      12/7/2016 22:03  \n",
              "4     13-07-2016 08:33:16  13-07-2016 09:25:47  \n",
              "5     13-07-2016 21:57:28  13-07-2016 22:28:59  \n",
              "6     14-07-2016 06:15:32  14-07-2016 07:13:15  \n",
              "7     15-07-2016 05:11:52  15-07-2016 06:07:52  \n",
              "8     15-07-2016 17:57:27  15-07-2016 18:50:51  \n",
              "9          11/7/2016 6:46       11/7/2016 7:25  \n",
              "10         12/7/2016 5:08       12/7/2016 6:02  \n",
              "11        12/7/2016 12:30      12/7/2016 12:57  \n",
              "12    13-07-2016 04:49:20  13-07-2016 05:23:03  \n",
              "13    13-07-2016 08:02:53  13-07-2016 09:16:19  \n",
              "14    13-07-2016 14:23:02  13-07-2016 15:35:18  \n",
              "15    13-07-2016 17:23:18  13-07-2016 18:20:51  \n",
              "16    14-07-2016 12:01:02  14-07-2016 12:36:46  \n",
              "17    14-07-2016 22:24:13  14-07-2016 23:18:52  \n",
              "18        11/7/2016 10:00      11/7/2016 10:31  \n",
              "19        11/7/2016 18:45      11/7/2016 19:23  \n",
              "20        12/7/2016 11:17      12/7/2016 12:23  \n",
              "21        12/7/2016 15:46      12/7/2016 16:40  \n",
              "22        12/7/2016 18:00      12/7/2016 18:28  \n",
              "23    13-07-2016 08:17:29  13-07-2016 09:22:37  \n",
              "24    13-07-2016 21:54:18  13-07-2016 22:51:23  \n",
              "25    14-07-2016 21:23:03  14-07-2016 22:25:19  \n",
              "26    15-07-2016 02:41:38  15-07-2016 03:24:43  \n",
              "27    15-07-2016 10:00:43  15-07-2016 10:53:06  \n",
              "28        11/7/2016 13:08      11/7/2016 13:49  \n",
              "29         12/7/2016 6:21       12/7/2016 7:10  \n",
              "...                   ...                  ...  \n",
              "6715  15-07-2016 22:34:01                  NaN  \n",
              "6716  15-07-2016 22:36:13                  NaN  \n",
              "6717  15-07-2016 22:37:37                  NaN  \n",
              "6718  15-07-2016 22:43:46                  NaN  \n",
              "6719  15-07-2016 22:49:33                  NaN  \n",
              "6720  15-07-2016 22:49:45                  NaN  \n",
              "6721  15-07-2016 22:51:18                  NaN  \n",
              "6722  15-07-2016 22:56:00                  NaN  \n",
              "6723  15-07-2016 22:58:15                  NaN  \n",
              "6724  15-07-2016 23:03:23                  NaN  \n",
              "6725  15-07-2016 23:08:14                  NaN  \n",
              "6726  15-07-2016 23:11:41                  NaN  \n",
              "6727  15-07-2016 23:14:36                  NaN  \n",
              "6728  15-07-2016 23:14:39                  NaN  \n",
              "6729  15-07-2016 23:16:48                  NaN  \n",
              "6730  15-07-2016 23:18:21                  NaN  \n",
              "6731  15-07-2016 23:21:53                  NaN  \n",
              "6732  15-07-2016 23:26:50                  NaN  \n",
              "6733  15-07-2016 23:27:55                  NaN  \n",
              "6734  15-07-2016 23:35:50                  NaN  \n",
              "6735  15-07-2016 23:39:15                  NaN  \n",
              "6736  15-07-2016 23:42:51                  NaN  \n",
              "6737  15-07-2016 23:43:54                  NaN  \n",
              "6738  15-07-2016 23:46:03                  NaN  \n",
              "6739  15-07-2016 23:46:20                  NaN  \n",
              "6740  15-07-2016 23:49:03                  NaN  \n",
              "6741  15-07-2016 23:50:05                  NaN  \n",
              "6742  15-07-2016 23:52:06                  NaN  \n",
              "6743  15-07-2016 23:54:39                  NaN  \n",
              "6744  15-07-2016 23:55:03                  NaN  \n",
              "\n",
              "[6745 rows x 6 columns]"
            ]
          },
          "metadata": {
            "tags": []
          },
          "execution_count": 198
        }
      ]
    },
    {
      "metadata": {
        "id": "S5AIzKoy0keD",
        "colab_type": "code",
        "colab": {},
        "outputId": "932381a0-1a7d-41a5-ce76-4c2fef98d021"
      },
      "cell_type": "code",
      "source": [
        "uber['Pickup point'].unique()"
      ],
      "execution_count": 0,
      "outputs": [
        {
          "output_type": "execute_result",
          "data": {
            "text/plain": [
              "array(['Airport', 'City'], dtype=object)"
            ]
          },
          "metadata": {
            "tags": []
          },
          "execution_count": 199
        }
      ]
    },
    {
      "metadata": {
        "id": "gqPbmcQR0keJ",
        "colab_type": "code",
        "colab": {}
      },
      "cell_type": "code",
      "source": [
        "uber['Request timestamp'] =pd.to_datetime(uber['Request timestamp'],dayfirst=True)"
      ],
      "execution_count": 0,
      "outputs": []
    },
    {
      "metadata": {
        "id": "9JRfJ0yR0keN",
        "colab_type": "code",
        "colab": {}
      },
      "cell_type": "code",
      "source": [
        "uber['Req-Date'] = uber['Request timestamp'].dt.date"
      ],
      "execution_count": 0,
      "outputs": []
    },
    {
      "metadata": {
        "id": "YJHZs-ga0keS",
        "colab_type": "code",
        "colab": {}
      },
      "cell_type": "code",
      "source": [
        "uber['Req-Time']= uber['Request timestamp'].dt.time"
      ],
      "execution_count": 0,
      "outputs": []
    },
    {
      "metadata": {
        "id": "DoWqkYrV0keW",
        "colab_type": "code",
        "colab": {}
      },
      "cell_type": "code",
      "source": [
        "uber['Req-Hour']= uber['Request timestamp'].dt.hour"
      ],
      "execution_count": 0,
      "outputs": []
    },
    {
      "metadata": {
        "id": "-_GRXO_S0keb",
        "colab_type": "code",
        "colab": {}
      },
      "cell_type": "code",
      "source": [
        "#LN- LateNight,EM- EarlyMorning, M- Morning,OH- OfficeHours,N-Noon,MN-Midnoon,E-Evening,LE-LateEvening\n",
        "uber['TimeSlots'] =pd.cut(uber['Req-Hour'],[0,3,6,9,12,15,18,21,24],labels=['LN','EM','M','OH','N','MN','E','LE'],right=False)"
      ],
      "execution_count": 0,
      "outputs": []
    },
    {
      "metadata": {
        "id": "wYtIJZUS0kef",
        "colab_type": "code",
        "colab": {},
        "outputId": "8df7f981-f77d-4311-ea76-6c0891000587"
      },
      "cell_type": "code",
      "source": [
        "sns.countplot(uber['TimeSlots'])"
      ],
      "execution_count": 0,
      "outputs": [
        {
          "output_type": "execute_result",
          "data": {
            "text/plain": [
              "<matplotlib.axes._subplots.AxesSubplot at 0x1d7000e5518>"
            ]
          },
          "metadata": {
            "tags": []
          },
          "execution_count": 205
        },
        {
          "output_type": "display_data",
          "data": {
            "image/png": "[encoded data removed]",
            "text/plain": [
              "<Figure size 432x288 with 1 Axes>"
            ]
          },
          "metadata": {
            "tags": [],
            "needs_background": "light"
          }
        }
      ]
    },
    {
      "metadata": {
        "id": "pjh_dl8m0ken",
        "colab_type": "code",
        "colab": {},
        "outputId": "e5c9e7b7-2717-4020-a0a4-2734b7d7b770"
      },
      "cell_type": "code",
      "source": [
        "sns.countplot(uber['Status'])"
      ],
      "execution_count": 0,
      "outputs": [
        {
          "output_type": "execute_result",
          "data": {
            "text/plain": [
              "<matplotlib.axes._subplots.AxesSubplot at 0x1d700170d30>"
            ]
          },
          "metadata": {
            "tags": []
          },
          "execution_count": 206
        },
        {
          "output_type": "display_data",
          "data": {
            "image/png": "[encoded data removed]",
            "text/plain": [
              "<Figure size 432x288 with 1 Axes>"
            ]
          },
          "metadata": {
            "tags": [],
            "needs_background": "light"
          }
        }
      ]
    },
    {
      "metadata": {
        "id": "1mSVdqvq0kes",
        "colab_type": "code",
        "colab": {},
        "outputId": "8597a84a-0e2f-49a6-8b9c-c122d13d772a"
      },
      "cell_type": "code",
      "source": [
        "sns.countplot(uber['Pickup point'])"
      ],
      "execution_count": 0,
      "outputs": [
        {
          "output_type": "execute_result",
          "data": {
            "text/plain": [
              "<matplotlib.axes._subplots.AxesSubplot at 0x1d7001b7630>"
            ]
          },
          "metadata": {
            "tags": []
          },
          "execution_count": 207
        },
        {
          "output_type": "display_data",
          "data": {
            "image/png": "[encoded data removed]",
            "text/plain": [
              "<Figure size 432x288 with 1 Axes>"
            ]
          },
          "metadata": {
            "tags": [],
            "needs_background": "light"
          }
        }
      ]
    },
    {
      "metadata": {
        "id": "AgDINrKi0kex",
        "colab_type": "code",
        "colab": {},
        "outputId": "521dc630-100f-4162-e13d-59e8c141757c"
      },
      "cell_type": "code",
      "source": [
        "uber.info()"
      ],
      "execution_count": 0,
      "outputs": [
        {
          "output_type": "stream",
          "text": [
            "<class 'pandas.core.frame.DataFrame'>\n",
            "RangeIndex: 6745 entries, 0 to 6744\n",
            "Data columns (total 10 columns):\n",
            "Request id           6745 non-null int64\n",
            "Pickup point         6745 non-null object\n",
            "Driver id            4095 non-null float64\n",
            "Status               6745 non-null object\n",
            "Request timestamp    6745 non-null datetime64[ns]\n",
            "Drop timestamp       2831 non-null object\n",
            "Req-Date             6745 non-null object\n",
            "Req-Time             6745 non-null object\n",
            "Req-Hour             6745 non-null int64\n",
            "TimeSlots            6745 non-null category\n",
            "dtypes: category(1), datetime64[ns](1), float64(1), int64(2), object(5)\n",
            "memory usage: 481.3+ KB\n"
          ],
          "name": "stdout"
        }
      ]
    },
    {
      "metadata": {
        "id": "xderKAEW0ke5",
        "colab_type": "code",
        "colab": {}
      },
      "cell_type": "code",
      "source": [
        "# Removing Completed trips as cancelled status and No cars Available is the problem with uber\n",
        "uber_prob = uber[uber['Status'] != 'Trip Completed']"
      ],
      "execution_count": 0,
      "outputs": []
    },
    {
      "metadata": {
        "id": "N9WPnnrW0kfA",
        "colab_type": "code",
        "colab": {},
        "outputId": "fbdf99ca-6574-4efe-e79f-59d1c7698fa4"
      },
      "cell_type": "code",
      "source": [
        "uber_prob.info()"
      ],
      "execution_count": 0,
      "outputs": [
        {
          "output_type": "stream",
          "text": [
            "<class 'pandas.core.frame.DataFrame'>\n",
            "Int64Index: 3914 entries, 2831 to 6744\n",
            "Data columns (total 10 columns):\n",
            "Request id           3914 non-null int64\n",
            "Pickup point         3914 non-null object\n",
            "Driver id            1264 non-null float64\n",
            "Status               3914 non-null object\n",
            "Request timestamp    3914 non-null datetime64[ns]\n",
            "Drop timestamp       0 non-null object\n",
            "Req-Date             3914 non-null object\n",
            "Req-Time             3914 non-null object\n",
            "Req-Hour             3914 non-null int64\n",
            "TimeSlots            3914 non-null category\n",
            "dtypes: category(1), datetime64[ns](1), float64(1), int64(2), object(5)\n",
            "memory usage: 310.0+ KB\n"
          ],
          "name": "stdout"
        }
      ]
    },
    {
      "metadata": {
        "id": "ZsoPeGFu0kfI",
        "colab_type": "code",
        "colab": {},
        "outputId": "cc6db83f-2173-4469-bc59-23023e1e8288"
      },
      "cell_type": "code",
      "source": [
        "#dropping column drop timestamp as it has zero values\n",
        "uber_prob.drop(columns='Drop timestamp',inplace=True)"
      ],
      "execution_count": 0,
      "outputs": [
        {
          "output_type": "stream",
          "text": [
            "C:\\Users\\sateesh\\Anaconda3\\lib\\site-packages\\pandas\\core\\frame.py:3697: SettingWithCopyWarning: \n",
            "A value is trying to be set on a copy of a slice from a DataFrame\n",
            "\n",
            "See the caveats in the documentation: http://pandas.pydata.org/pandas-docs/stable/indexing.html#indexing-view-versus-copy\n",
            "  errors=errors)\n"
          ],
          "name": "stderr"
        }
      ]
    },
    {
      "metadata": {
        "id": "OPooXZYe0kfY",
        "colab_type": "code",
        "colab": {},
        "outputId": "47ba1af5-2f50-4713-82e6-22daf2ce8a70"
      },
      "cell_type": "code",
      "source": [
        "uber_prob.info()"
      ],
      "execution_count": 0,
      "outputs": [
        {
          "output_type": "stream",
          "text": [
            "<class 'pandas.core.frame.DataFrame'>\n",
            "Int64Index: 3914 entries, 2831 to 6744\n",
            "Data columns (total 9 columns):\n",
            "Request id           3914 non-null int64\n",
            "Pickup point         3914 non-null object\n",
            "Driver id            1264 non-null float64\n",
            "Status               3914 non-null object\n",
            "Request timestamp    3914 non-null datetime64[ns]\n",
            "Req-Date             3914 non-null object\n",
            "Req-Time             3914 non-null object\n",
            "Req-Hour             3914 non-null int64\n",
            "TimeSlots            3914 non-null category\n",
            "dtypes: category(1), datetime64[ns](1), float64(1), int64(2), object(4)\n",
            "memory usage: 279.4+ KB\n"
          ],
          "name": "stdout"
        }
      ]
    },
    {
      "metadata": {
        "id": "xtjibZsF0kfe",
        "colab_type": "code",
        "colab": {},
        "outputId": "6baa0355-e1ae-494c-a258-8d89c4c97ae3"
      },
      "cell_type": "code",
      "source": [
        "# plot to visualise the frequency of requests that get cancelled or 'no cars available'\n",
        "sns.countplot(uber_prob['Status'])"
      ],
      "execution_count": 0,
      "outputs": [
        {
          "output_type": "execute_result",
          "data": {
            "text/plain": [
              "<matplotlib.axes._subplots.AxesSubplot at 0x1d70017b438>"
            ]
          },
          "metadata": {
            "tags": []
          },
          "execution_count": 214
        },
        {
          "output_type": "display_data",
          "data": {
            "image/png": "[encoded data removed]",
            "text/plain": [
              "<Figure size 432x288 with 1 Axes>"
            ]
          },
          "metadata": {
            "tags": [],
            "needs_background": "light"
          }
        }
      ]
    },
    {
      "metadata": {
        "id": "1M5yiKp20kfk",
        "colab_type": "code",
        "colab": {},
        "outputId": "97b805be-958f-4418-f9df-dcef182fac33"
      },
      "cell_type": "code",
      "source": [
        "pp_s = pd.pivot_table(uber_prob,values='Req-Hour',index='Status',columns=\"Pickup point\",aggfunc=\"count\")\n",
        "pp_s"
      ],
      "execution_count": 0,
      "outputs": [
        {
          "output_type": "execute_result",
          "data": {
            "text/html": [
              "<div>\n",
              "<style scoped>\n",
              "    .dataframe tbody tr th:only-of-type {\n",
              "        vertical-align: middle;\n",
              "    }\n",
              "\n",
              "    .dataframe tbody tr th {\n",
              "        vertical-align: top;\n",
              "    }\n",
              "\n",
              "    .dataframe thead th {\n",
              "        text-align: right;\n",
              "    }\n",
              "</style>\n",
              "<table border=\"1\" class=\"dataframe\">\n",
              "  <thead>\n",
              "    <tr style=\"text-align: right;\">\n",
              "      <th>Pickup point</th>\n",
              "      <th>Airport</th>\n",
              "      <th>City</th>\n",
              "    </tr>\n",
              "    <tr>\n",
              "      <th>Status</th>\n",
              "      <th></th>\n",
              "      <th></th>\n",
              "    </tr>\n",
              "  </thead>\n",
              "  <tbody>\n",
              "    <tr>\n",
              "      <th>Cancelled</th>\n",
              "      <td>198</td>\n",
              "      <td>1066</td>\n",
              "    </tr>\n",
              "    <tr>\n",
              "      <th>No Cars Available</th>\n",
              "      <td>1713</td>\n",
              "      <td>937</td>\n",
              "    </tr>\n",
              "  </tbody>\n",
              "</table>\n",
              "</div>"
            ],
            "text/plain": [
              "Pickup point       Airport  City\n",
              "Status                          \n",
              "Cancelled              198  1066\n",
              "No Cars Available     1713   937"
            ]
          },
          "metadata": {
            "tags": []
          },
          "execution_count": 215
        }
      ]
    },
    {
      "metadata": {
        "id": "IMUMvttB0kfu",
        "colab_type": "code",
        "colab": {},
        "outputId": "41344613-1050-4e28-afbe-c1578e91b1c3"
      },
      "cell_type": "code",
      "source": [
        "sns.heatmap(pp_s,cmap=\"YlGnBu\")"
      ],
      "execution_count": 0,
      "outputs": [
        {
          "output_type": "execute_result",
          "data": {
            "text/plain": [
              "<matplotlib.axes._subplots.AxesSubplot at 0x1d7002ec9b0>"
            ]
          },
          "metadata": {
            "tags": []
          },
          "execution_count": 216
        },
        {
          "output_type": "display_data",
          "data": {
            "image/png": "[encoded data removed]",
            "text/plain": [
              "<Figure size 432x288 with 2 Axes>"
            ]
          },
          "metadata": {
            "tags": [],
            "needs_background": "light"
          }
        }
      ]
    },
    {
      "metadata": {
        "id": "hIzz3Pu30kf2",
        "colab_type": "code",
        "colab": {},
        "outputId": "ef03a611-6b90-4563-d677-387d9d9f6812"
      },
      "cell_type": "code",
      "source": [
        "pp_t = pd.pivot_table(uber_prob,values='Req-Hour',index='TimeSlots',columns=[\"Pickup point\",\"Status\"],aggfunc=\"count\")\n",
        "pp_t"
      ],
      "execution_count": 0,
      "outputs": [
        {
          "output_type": "execute_result",
          "data": {
            "text/html": [
              "<div>\n",
              "<style scoped>\n",
              "    .dataframe tbody tr th:only-of-type {\n",
              "        vertical-align: middle;\n",
              "    }\n",
              "\n",
              "    .dataframe tbody tr th {\n",
              "        vertical-align: top;\n",
              "    }\n",
              "\n",
              "    .dataframe thead tr th {\n",
              "        text-align: left;\n",
              "    }\n",
              "\n",
              "    .dataframe thead tr:last-of-type th {\n",
              "        text-align: right;\n",
              "    }\n",
              "</style>\n",
              "<table border=\"1\" class=\"dataframe\">\n",
              "  <thead>\n",
              "    <tr>\n",
              "      <th>Pickup point</th>\n",
              "      <th colspan=\"2\" halign=\"left\">Airport</th>\n",
              "      <th colspan=\"2\" halign=\"left\">City</th>\n",
              "    </tr>\n",
              "    <tr>\n",
              "      <th>Status</th>\n",
              "      <th>Cancelled</th>\n",
              "      <th>No Cars Available</th>\n",
              "      <th>Cancelled</th>\n",
              "      <th>No Cars Available</th>\n",
              "    </tr>\n",
              "    <tr>\n",
              "      <th>TimeSlots</th>\n",
              "      <th></th>\n",
              "      <th></th>\n",
              "      <th></th>\n",
              "      <th></th>\n",
              "    </tr>\n",
              "  </thead>\n",
              "  <tbody>\n",
              "    <tr>\n",
              "      <th>LN</th>\n",
              "      <td>NaN</td>\n",
              "      <td>84.0</td>\n",
              "      <td>12.0</td>\n",
              "      <td>85.0</td>\n",
              "    </tr>\n",
              "    <tr>\n",
              "      <th>EM</th>\n",
              "      <td>6.0</td>\n",
              "      <td>67.0</td>\n",
              "      <td>223.0</td>\n",
              "      <td>147.0</td>\n",
              "    </tr>\n",
              "    <tr>\n",
              "      <th>M</th>\n",
              "      <td>11.0</td>\n",
              "      <td>11.0</td>\n",
              "      <td>481.0</td>\n",
              "      <td>228.0</td>\n",
              "    </tr>\n",
              "    <tr>\n",
              "      <th>OH</th>\n",
              "      <td>22.0</td>\n",
              "      <td>30.0</td>\n",
              "      <td>230.0</td>\n",
              "      <td>159.0</td>\n",
              "    </tr>\n",
              "    <tr>\n",
              "      <th>N</th>\n",
              "      <td>25.0</td>\n",
              "      <td>42.0</td>\n",
              "      <td>23.0</td>\n",
              "      <td>92.0</td>\n",
              "    </tr>\n",
              "    <tr>\n",
              "      <th>MN</th>\n",
              "      <td>44.0</td>\n",
              "      <td>237.0</td>\n",
              "      <td>34.0</td>\n",
              "      <td>89.0</td>\n",
              "    </tr>\n",
              "    <tr>\n",
              "      <th>E</th>\n",
              "      <td>59.0</td>\n",
              "      <td>852.0</td>\n",
              "      <td>30.0</td>\n",
              "      <td>43.0</td>\n",
              "    </tr>\n",
              "    <tr>\n",
              "      <th>LE</th>\n",
              "      <td>31.0</td>\n",
              "      <td>390.0</td>\n",
              "      <td>33.0</td>\n",
              "      <td>94.0</td>\n",
              "    </tr>\n",
              "  </tbody>\n",
              "</table>\n",
              "</div>"
            ],
            "text/plain": [
              "Pickup point   Airport                        City                  \n",
              "Status       Cancelled No Cars Available Cancelled No Cars Available\n",
              "TimeSlots                                                           \n",
              "LN                 NaN              84.0      12.0              85.0\n",
              "EM                 6.0              67.0     223.0             147.0\n",
              "M                 11.0              11.0     481.0             228.0\n",
              "OH                22.0              30.0     230.0             159.0\n",
              "N                 25.0              42.0      23.0              92.0\n",
              "MN                44.0             237.0      34.0              89.0\n",
              "E                 59.0             852.0      30.0              43.0\n",
              "LE                31.0             390.0      33.0              94.0"
            ]
          },
          "metadata": {
            "tags": []
          },
          "execution_count": 217
        }
      ]
    },
    {
      "metadata": {
        "id": "rDIGFJSe0kf-",
        "colab_type": "code",
        "colab": {},
        "outputId": "00e88498-d649-4d70-bcc0-8c2f2a5b79a7"
      },
      "cell_type": "code",
      "source": [
        "# The problematic types of requests are \n",
        "# 1 airport to city in Evening,LateEvening and MidNight because of No Cars available\n",
        "# 2 city to airport in OfficeHours,Morning and EarlyMorning because of cancelled trips\n",
        "# The most problematic issue is a trip from Airport to city in the evening because of No Cars Available.\n",
        "sns.heatmap(pp_t,cmap=\"YlGnBu\")"
      ],
      "execution_count": 0,
      "outputs": [
        {
          "output_type": "execute_result",
          "data": {
            "text/plain": [
              "<matplotlib.axes._subplots.AxesSubplot at 0x1d70036f668>"
            ]
          },
          "metadata": {
            "tags": []
          },
          "execution_count": 218
        },
        {
          "output_type": "display_data",
          "data": {
            "image/png": "[encoded data removed]",
            "text/plain": [
              "<Figure size 432x288 with 2 Axes>"
            ]
          },
          "metadata": {
            "tags": [],
            "needs_background": "light"
          }
        }
      ]
    },
    {
      "metadata": {
        "id": "M2J40JPy0kgF",
        "colab_type": "code",
        "colab": {},
        "outputId": "6fd65aeb-e690-4705-82a8-d6e889336e77"
      },
      "cell_type": "code",
      "source": [
        "pp_t = pd.pivot_table(uber,values='Req-Hour',index='TimeSlots',columns=[\"Pickup point\",\"Status\"],aggfunc=\"count\")\n",
        "pp_t"
      ],
      "execution_count": 0,
      "outputs": [
        {
          "output_type": "execute_result",
          "data": {
            "text/html": [
              "<div>\n",
              "<style scoped>\n",
              "    .dataframe tbody tr th:only-of-type {\n",
              "        vertical-align: middle;\n",
              "    }\n",
              "\n",
              "    .dataframe tbody tr th {\n",
              "        vertical-align: top;\n",
              "    }\n",
              "\n",
              "    .dataframe thead tr th {\n",
              "        text-align: left;\n",
              "    }\n",
              "\n",
              "    .dataframe thead tr:last-of-type th {\n",
              "        text-align: right;\n",
              "    }\n",
              "</style>\n",
              "<table border=\"1\" class=\"dataframe\">\n",
              "  <thead>\n",
              "    <tr>\n",
              "      <th>Pickup point</th>\n",
              "      <th colspan=\"3\" halign=\"left\">Airport</th>\n",
              "      <th colspan=\"3\" halign=\"left\">City</th>\n",
              "    </tr>\n",
              "    <tr>\n",
              "      <th>Status</th>\n",
              "      <th>Cancelled</th>\n",
              "      <th>No Cars Available</th>\n",
              "      <th>Trip Completed</th>\n",
              "      <th>Cancelled</th>\n",
              "      <th>No Cars Available</th>\n",
              "      <th>Trip Completed</th>\n",
              "    </tr>\n",
              "    <tr>\n",
              "      <th>TimeSlots</th>\n",
              "      <th></th>\n",
              "      <th></th>\n",
              "      <th></th>\n",
              "      <th></th>\n",
              "      <th></th>\n",
              "      <th></th>\n",
              "    </tr>\n",
              "  </thead>\n",
              "  <tbody>\n",
              "    <tr>\n",
              "      <th>LN</th>\n",
              "      <td>NaN</td>\n",
              "      <td>84.0</td>\n",
              "      <td>52.0</td>\n",
              "      <td>12.0</td>\n",
              "      <td>85.0</td>\n",
              "      <td>50.0</td>\n",
              "    </tr>\n",
              "    <tr>\n",
              "      <th>EM</th>\n",
              "      <td>6.0</td>\n",
              "      <td>67.0</td>\n",
              "      <td>136.0</td>\n",
              "      <td>223.0</td>\n",
              "      <td>147.0</td>\n",
              "      <td>161.0</td>\n",
              "    </tr>\n",
              "    <tr>\n",
              "      <th>M</th>\n",
              "      <td>11.0</td>\n",
              "      <td>11.0</td>\n",
              "      <td>223.0</td>\n",
              "      <td>481.0</td>\n",
              "      <td>228.0</td>\n",
              "      <td>273.0</td>\n",
              "    </tr>\n",
              "    <tr>\n",
              "      <th>OH</th>\n",
              "      <td>22.0</td>\n",
              "      <td>30.0</td>\n",
              "      <td>176.0</td>\n",
              "      <td>230.0</td>\n",
              "      <td>159.0</td>\n",
              "      <td>228.0</td>\n",
              "    </tr>\n",
              "    <tr>\n",
              "      <th>N</th>\n",
              "      <td>25.0</td>\n",
              "      <td>42.0</td>\n",
              "      <td>135.0</td>\n",
              "      <td>23.0</td>\n",
              "      <td>92.0</td>\n",
              "      <td>163.0</td>\n",
              "    </tr>\n",
              "    <tr>\n",
              "      <th>MN</th>\n",
              "      <td>44.0</td>\n",
              "      <td>237.0</td>\n",
              "      <td>164.0</td>\n",
              "      <td>34.0</td>\n",
              "      <td>89.0</td>\n",
              "      <td>180.0</td>\n",
              "    </tr>\n",
              "    <tr>\n",
              "      <th>E</th>\n",
              "      <td>59.0</td>\n",
              "      <td>852.0</td>\n",
              "      <td>238.0</td>\n",
              "      <td>30.0</td>\n",
              "      <td>43.0</td>\n",
              "      <td>253.0</td>\n",
              "    </tr>\n",
              "    <tr>\n",
              "      <th>LE</th>\n",
              "      <td>31.0</td>\n",
              "      <td>390.0</td>\n",
              "      <td>203.0</td>\n",
              "      <td>33.0</td>\n",
              "      <td>94.0</td>\n",
              "      <td>196.0</td>\n",
              "    </tr>\n",
              "  </tbody>\n",
              "</table>\n",
              "</div>"
            ],
            "text/plain": [
              "Pickup point   Airport                                       City  \\\n",
              "Status       Cancelled No Cars Available Trip Completed Cancelled   \n",
              "TimeSlots                                                           \n",
              "LN                 NaN              84.0           52.0      12.0   \n",
              "EM                 6.0              67.0          136.0     223.0   \n",
              "M                 11.0              11.0          223.0     481.0   \n",
              "OH                22.0              30.0          176.0     230.0   \n",
              "N                 25.0              42.0          135.0      23.0   \n",
              "MN                44.0             237.0          164.0      34.0   \n",
              "E                 59.0             852.0          238.0      30.0   \n",
              "LE                31.0             390.0          203.0      33.0   \n",
              "\n",
              "Pickup point                                   \n",
              "Status       No Cars Available Trip Completed  \n",
              "TimeSlots                                      \n",
              "LN                        85.0           50.0  \n",
              "EM                       147.0          161.0  \n",
              "M                        228.0          273.0  \n",
              "OH                       159.0          228.0  \n",
              "N                         92.0          163.0  \n",
              "MN                        89.0          180.0  \n",
              "E                         43.0          253.0  \n",
              "LE                        94.0          196.0  "
            ]
          },
          "metadata": {
            "tags": []
          },
          "execution_count": 219
        }
      ]
    },
    {
      "metadata": {
        "id": "xs0ICBpe0kgK",
        "colab_type": "code",
        "colab": {},
        "outputId": "feb829c0-1394-4608-e26f-8cf1247b8d62"
      },
      "cell_type": "code",
      "source": [
        "sns.heatmap(pp_t,cmap=\"YlGnBu\")"
      ],
      "execution_count": 0,
      "outputs": [
        {
          "output_type": "execute_result",
          "data": {
            "text/plain": [
              "<matplotlib.axes._subplots.AxesSubplot at 0x1d7003fb908>"
            ]
          },
          "metadata": {
            "tags": []
          },
          "execution_count": 220
        },
        {
          "output_type": "display_data",
          "data": {
            "image/png": "[encoded data removed]",
            "text/plain": [
              "<Figure size 432x288 with 2 Axes>"
            ]
          },
          "metadata": {
            "tags": [],
            "needs_background": "light"
          }
        }
      ]
    },
    {
      "metadata": {
        "id": "K9nIWaOk0kgQ",
        "colab_type": "code",
        "colab": {},
        "outputId": "b241abba-3268-4ba4-be40-9b97d20a2269"
      },
      "cell_type": "code",
      "source": [
        "uber.info()"
      ],
      "execution_count": 0,
      "outputs": [
        {
          "output_type": "stream",
          "text": [
            "<class 'pandas.core.frame.DataFrame'>\n",
            "RangeIndex: 6745 entries, 0 to 6744\n",
            "Data columns (total 10 columns):\n",
            "Request id           6745 non-null int64\n",
            "Pickup point         6745 non-null object\n",
            "Driver id            4095 non-null float64\n",
            "Status               6745 non-null object\n",
            "Request timestamp    6745 non-null datetime64[ns]\n",
            "Drop timestamp       2831 non-null object\n",
            "Req-Date             6745 non-null object\n",
            "Req-Time             6745 non-null object\n",
            "Req-Hour             6745 non-null int64\n",
            "TimeSlots            6745 non-null category\n",
            "dtypes: category(1), datetime64[ns](1), float64(1), int64(2), object(5)\n",
            "memory usage: 481.3+ KB\n"
          ],
          "name": "stdout"
        }
      ]
    },
    {
      "metadata": {
        "id": "aAqcJSiP0kgY",
        "colab_type": "code",
        "colab": {},
        "outputId": "d0c8eee5-965e-47f6-fc62-520a194c2fbe"
      },
      "cell_type": "code",
      "source": [
        "# Request id's are not duplicated \n",
        "print(any(uber['Request id'].duplicated()))"
      ],
      "execution_count": 0,
      "outputs": [
        {
          "output_type": "stream",
          "text": [
            "False\n"
          ],
          "name": "stdout"
        }
      ]
    },
    {
      "metadata": {
        "id": "NNKG1VAN0kgc",
        "colab_type": "code",
        "colab": {},
        "outputId": "51ee86d8-f548-4844-c6c2-9782099345d3"
      },
      "cell_type": "code",
      "source": [
        "#There are no duplicate rows\n",
        "uber[uber.duplicated()]"
      ],
      "execution_count": 0,
      "outputs": [
        {
          "output_type": "execute_result",
          "data": {
            "text/html": [
              "<div>\n",
              "<style scoped>\n",
              "    .dataframe tbody tr th:only-of-type {\n",
              "        vertical-align: middle;\n",
              "    }\n",
              "\n",
              "    .dataframe tbody tr th {\n",
              "        vertical-align: top;\n",
              "    }\n",
              "\n",
              "    .dataframe thead th {\n",
              "        text-align: right;\n",
              "    }\n",
              "</style>\n",
              "<table border=\"1\" class=\"dataframe\">\n",
              "  <thead>\n",
              "    <tr style=\"text-align: right;\">\n",
              "      <th></th>\n",
              "      <th>Request id</th>\n",
              "      <th>Pickup point</th>\n",
              "      <th>Driver id</th>\n",
              "      <th>Status</th>\n",
              "      <th>Request timestamp</th>\n",
              "      <th>Drop timestamp</th>\n",
              "      <th>Req-Date</th>\n",
              "      <th>Req-Time</th>\n",
              "      <th>Req-Hour</th>\n",
              "      <th>TimeSlots</th>\n",
              "    </tr>\n",
              "  </thead>\n",
              "  <tbody>\n",
              "  </tbody>\n",
              "</table>\n",
              "</div>"
            ],
            "text/plain": [
              "Empty DataFrame\n",
              "Columns: [Request id, Pickup point, Driver id, Status, Request timestamp, Drop timestamp, Req-Date, Req-Time, Req-Hour, TimeSlots]\n",
              "Index: []"
            ]
          },
          "metadata": {
            "tags": []
          },
          "execution_count": 229
        }
      ]
    },
    {
      "metadata": {
        "id": "w02KxiER0kgj",
        "colab_type": "code",
        "colab": {},
        "outputId": "0fb992ec-3dda-4c15-9d83-2572ce61f99e"
      },
      "cell_type": "code",
      "source": [
        "pp_reqid = pd.pivot_table(uber,values='Request id',index='TimeSlots',columns=[\"Pickup point\",\"Status\"],aggfunc=\"count\")\n",
        "pp_reqid"
      ],
      "execution_count": 0,
      "outputs": [
        {
          "output_type": "execute_result",
          "data": {
            "text/html": [
              "<div>\n",
              "<style scoped>\n",
              "    .dataframe tbody tr th:only-of-type {\n",
              "        vertical-align: middle;\n",
              "    }\n",
              "\n",
              "    .dataframe tbody tr th {\n",
              "        vertical-align: top;\n",
              "    }\n",
              "\n",
              "    .dataframe thead tr th {\n",
              "        text-align: left;\n",
              "    }\n",
              "\n",
              "    .dataframe thead tr:last-of-type th {\n",
              "        text-align: right;\n",
              "    }\n",
              "</style>\n",
              "<table border=\"1\" class=\"dataframe\">\n",
              "  <thead>\n",
              "    <tr>\n",
              "      <th>Pickup point</th>\n",
              "      <th colspan=\"3\" halign=\"left\">Airport</th>\n",
              "      <th colspan=\"3\" halign=\"left\">City</th>\n",
              "    </tr>\n",
              "    <tr>\n",
              "      <th>Status</th>\n",
              "      <th>Cancelled</th>\n",
              "      <th>No Cars Available</th>\n",
              "      <th>Trip Completed</th>\n",
              "      <th>Cancelled</th>\n",
              "      <th>No Cars Available</th>\n",
              "      <th>Trip Completed</th>\n",
              "    </tr>\n",
              "    <tr>\n",
              "      <th>TimeSlots</th>\n",
              "      <th></th>\n",
              "      <th></th>\n",
              "      <th></th>\n",
              "      <th></th>\n",
              "      <th></th>\n",
              "      <th></th>\n",
              "    </tr>\n",
              "  </thead>\n",
              "  <tbody>\n",
              "    <tr>\n",
              "      <th>LN</th>\n",
              "      <td>NaN</td>\n",
              "      <td>84.0</td>\n",
              "      <td>52.0</td>\n",
              "      <td>12.0</td>\n",
              "      <td>85.0</td>\n",
              "      <td>50.0</td>\n",
              "    </tr>\n",
              "    <tr>\n",
              "      <th>EM</th>\n",
              "      <td>6.0</td>\n",
              "      <td>67.0</td>\n",
              "      <td>136.0</td>\n",
              "      <td>223.0</td>\n",
              "      <td>147.0</td>\n",
              "      <td>161.0</td>\n",
              "    </tr>\n",
              "    <tr>\n",
              "      <th>M</th>\n",
              "      <td>11.0</td>\n",
              "      <td>11.0</td>\n",
              "      <td>223.0</td>\n",
              "      <td>481.0</td>\n",
              "      <td>228.0</td>\n",
              "      <td>273.0</td>\n",
              "    </tr>\n",
              "    <tr>\n",
              "      <th>OH</th>\n",
              "      <td>22.0</td>\n",
              "      <td>30.0</td>\n",
              "      <td>176.0</td>\n",
              "      <td>230.0</td>\n",
              "      <td>159.0</td>\n",
              "      <td>228.0</td>\n",
              "    </tr>\n",
              "    <tr>\n",
              "      <th>N</th>\n",
              "      <td>25.0</td>\n",
              "      <td>42.0</td>\n",
              "      <td>135.0</td>\n",
              "      <td>23.0</td>\n",
              "      <td>92.0</td>\n",
              "      <td>163.0</td>\n",
              "    </tr>\n",
              "    <tr>\n",
              "      <th>MN</th>\n",
              "      <td>44.0</td>\n",
              "      <td>237.0</td>\n",
              "      <td>164.0</td>\n",
              "      <td>34.0</td>\n",
              "      <td>89.0</td>\n",
              "      <td>180.0</td>\n",
              "    </tr>\n",
              "    <tr>\n",
              "      <th>E</th>\n",
              "      <td>59.0</td>\n",
              "      <td>852.0</td>\n",
              "      <td>238.0</td>\n",
              "      <td>30.0</td>\n",
              "      <td>43.0</td>\n",
              "      <td>253.0</td>\n",
              "    </tr>\n",
              "    <tr>\n",
              "      <th>LE</th>\n",
              "      <td>31.0</td>\n",
              "      <td>390.0</td>\n",
              "      <td>203.0</td>\n",
              "      <td>33.0</td>\n",
              "      <td>94.0</td>\n",
              "      <td>196.0</td>\n",
              "    </tr>\n",
              "  </tbody>\n",
              "</table>\n",
              "</div>"
            ],
            "text/plain": [
              "Pickup point   Airport                                       City  \\\n",
              "Status       Cancelled No Cars Available Trip Completed Cancelled   \n",
              "TimeSlots                                                           \n",
              "LN                 NaN              84.0           52.0      12.0   \n",
              "EM                 6.0              67.0          136.0     223.0   \n",
              "M                 11.0              11.0          223.0     481.0   \n",
              "OH                22.0              30.0          176.0     230.0   \n",
              "N                 25.0              42.0          135.0      23.0   \n",
              "MN                44.0             237.0          164.0      34.0   \n",
              "E                 59.0             852.0          238.0      30.0   \n",
              "LE                31.0             390.0          203.0      33.0   \n",
              "\n",
              "Pickup point                                   \n",
              "Status       No Cars Available Trip Completed  \n",
              "TimeSlots                                      \n",
              "LN                        85.0           50.0  \n",
              "EM                       147.0          161.0  \n",
              "M                        228.0          273.0  \n",
              "OH                       159.0          228.0  \n",
              "N                         92.0          163.0  \n",
              "MN                        89.0          180.0  \n",
              "E                         43.0          253.0  \n",
              "LE                        94.0          196.0  "
            ]
          },
          "metadata": {
            "tags": []
          },
          "execution_count": 235
        }
      ]
    },
    {
      "metadata": {
        "id": "ywrnHrCx0kgs",
        "colab_type": "code",
        "colab": {},
        "outputId": "30f89743-1229-4e18-edd5-9ef02a5a667a"
      },
      "cell_type": "code",
      "source": [
        "sns.heatmap(pp_reqid,cmap=\"YlGnBu\")"
      ],
      "execution_count": 0,
      "outputs": [
        {
          "output_type": "execute_result",
          "data": {
            "text/plain": [
              "<matplotlib.axes._subplots.AxesSubplot at 0x1d7019ffda0>"
            ]
          },
          "metadata": {
            "tags": []
          },
          "execution_count": 236
        },
        {
          "output_type": "display_data",
          "data": {
            "image/png": "[encoded data removed]",
            "text/plain": [
              "<Figure size 432x288 with 2 Axes>"
            ]
          },
          "metadata": {
            "tags": [],
            "needs_background": "light"
          }
        }
      ]
    },
    {
      "metadata": {
        "id": "UzR4nz2X0kgx",
        "colab_type": "code",
        "colab": {}
      },
      "cell_type": "code",
      "source": [
        ""
      ],
      "execution_count": 0,
      "outputs": []
    }
  ]
}